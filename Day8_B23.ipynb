{
 "cells": [
  {
   "cell_type": "code",
   "execution_count": null,
   "metadata": {},
   "outputs": [],
   "source": [
    "# dict cont...."
   ]
  },
  {
   "cell_type": "code",
   "execution_count": 2,
   "metadata": {},
   "outputs": [
    {
     "name": "stdout",
     "output_type": "stream",
     "text": [
      "{'color': 'green', 'points': 5, 'st_posn': 0, 'cur_pos': 10}\n"
     ]
    }
   ],
   "source": [
    "alien = {'color':'green','points':5,'st_posn':0,'cur_pos':10}\n",
    "\n",
    "print(alien)"
   ]
  },
  {
   "cell_type": "code",
   "execution_count": 3,
   "metadata": {},
   "outputs": [
    {
     "name": "stdout",
     "output_type": "stream",
     "text": [
      "{'color': 'yellow', 'points': '10', 'st_posn': 0, 'cur_pos': 10}\n"
     ]
    }
   ],
   "source": [
    "# modifying the value\n",
    "\n",
    "alien['color'] = 'yellow'\n",
    "alien['points'] = '10'\n",
    "\n",
    "print(alien)"
   ]
  },
  {
   "cell_type": "code",
   "execution_count": null,
   "metadata": {},
   "outputs": [],
   "source": [
    "# looping with dict\n",
    "\n",
    "syntax: \n",
    "    for temp1,temp2 in mainvar.items():\n",
    "        print(temp1)   ------------> it will print the key of dict\n",
    "        print(temp1)   ------------> it will print the value of dict       \n",
    "        "
   ]
  },
  {
   "cell_type": "code",
   "execution_count": 4,
   "metadata": {},
   "outputs": [],
   "source": [
    "fav_lang = {'Umair': 'Python', 'Ameen': 'js', 'Saad': 'java'}"
   ]
  },
  {
   "cell_type": "code",
   "execution_count": 7,
   "metadata": {},
   "outputs": [
    {
     "name": "stdout",
     "output_type": "stream",
     "text": [
      " Key: Umair\n",
      " Value: Python\n",
      " Key: Ameen\n",
      " Value: js\n",
      " Key: Saad\n",
      " Value: java\n"
     ]
    }
   ],
   "source": [
    "for x,y in fav_lang.items():\n",
    "    print(f\" Key: {x}\")\n",
    "    print(f\" Value: {y}\")    "
   ]
  },
  {
   "cell_type": "code",
   "execution_count": 8,
   "metadata": {},
   "outputs": [
    {
     "name": "stdout",
     "output_type": "stream",
     "text": [
      " Key: Umair\n",
      " Value: Python\n",
      "\n",
      " Key: Ameen\n",
      " Value: js\n",
      "\n",
      " Key: Saad\n",
      " Value: java\n",
      "\n"
     ]
    }
   ],
   "source": [
    "for x,y in fav_lang.items():\n",
    "    print(f\" Key: {x}\")\n",
    "    print(f\" Value: {y}\\n\")"
   ]
  },
  {
   "cell_type": "code",
   "execution_count": 12,
   "metadata": {},
   "outputs": [
    {
     "name": "stdout",
     "output_type": "stream",
     "text": [
      "Students: Umair\n",
      " \n",
      "Students: Ameen\n",
      " \n",
      "Students: Saad\n",
      " \n"
     ]
    }
   ],
   "source": [
    "for x in fav_lang.keys():\n",
    "    print(f\"Students: {x}\\n \")"
   ]
  },
  {
   "cell_type": "code",
   "execution_count": 15,
   "metadata": {},
   "outputs": [
    {
     "name": "stdout",
     "output_type": "stream",
     "text": [
      "Lang: Python\n",
      " \n",
      "Lang: js\n",
      " \n",
      "Lang: java\n",
      " \n"
     ]
    }
   ],
   "source": [
    "for x in fav_lang.values():\n",
    "    print(f\"Lang: {x}\\n \")"
   ]
  },
  {
   "cell_type": "code",
   "execution_count": null,
   "metadata": {},
   "outputs": [],
   "source": []
  }
 ],
 "metadata": {
  "kernelspec": {
   "display_name": "Python 3",
   "language": "python",
   "name": "python3"
  },
  "language_info": {
   "codemirror_mode": {
    "name": "ipython",
    "version": 3
   },
   "file_extension": ".py",
   "mimetype": "text/x-python",
   "name": "python",
   "nbconvert_exporter": "python",
   "pygments_lexer": "ipython3",
   "version": "3.7.6"
  }
 },
 "nbformat": 4,
 "nbformat_minor": 4
}
