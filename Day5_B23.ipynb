{
 "cells": [
  {
   "cell_type": "code",
   "execution_count": null,
   "metadata": {},
   "outputs": [],
   "source": [
    "# Looping statements ----> for loop"
   ]
  },
  {
   "cell_type": "code",
   "execution_count": 1,
   "metadata": {},
   "outputs": [],
   "source": [
    "students = ['umair', 'ovais', 'muaaz', 'ameen', 'saad' ]"
   ]
  },
  {
   "cell_type": "code",
   "execution_count": 2,
   "metadata": {},
   "outputs": [
    {
     "name": "stdout",
     "output_type": "stream",
     "text": [
      "umair\n",
      "ovais\n",
      "muaaz\n",
      "ameen\n",
      "saad\n"
     ]
    }
   ],
   "source": [
    "for all_students in students:\n",
    "    print(all_students)"
   ]
  },
  {
   "cell_type": "code",
   "execution_count": 3,
   "metadata": {},
   "outputs": [
    {
     "name": "stdout",
     "output_type": "stream",
     "text": [
      "Welcome to python world, umair\n",
      "Welcome to python world, ovais\n",
      "Welcome to python world, muaaz\n",
      "Welcome to python world, ameen\n",
      "Welcome to python world, saad\n"
     ]
    }
   ],
   "source": [
    "for all_students in students:\n",
    "    print(f\"Welcome to python world, {all_students}\")"
   ]
  },
  {
   "cell_type": "code",
   "execution_count": 5,
   "metadata": {},
   "outputs": [
    {
     "name": "stdout",
     "output_type": "stream",
     "text": [
      "Welcome to python world, Umair\n",
      "Welcome to python world, Ovais\n",
      "Welcome to python world, Muaaz\n",
      "Welcome to python world, Ameen\n",
      "Welcome to python world, Saad\n"
     ]
    }
   ],
   "source": [
    "for all_students in students:\n",
    "    print(f\"Welcome to python world, {all_students.title()}\")"
   ]
  },
  {
   "cell_type": "code",
   "execution_count": 6,
   "metadata": {},
   "outputs": [
    {
     "name": "stdout",
     "output_type": "stream",
     "text": [
      "Welcome to python world, UMAIR\n",
      "Welcome to python world, OVAIS\n",
      "Welcome to python world, MUAAZ\n",
      "Welcome to python world, AMEEN\n",
      "Welcome to python world, SAAD\n"
     ]
    }
   ],
   "source": [
    "for all_students in students:\n",
    "    print(f\"Welcome to python world, {all_students.upper()}\")"
   ]
  },
  {
   "cell_type": "code",
   "execution_count": 7,
   "metadata": {},
   "outputs": [
    {
     "name": "stdout",
     "output_type": "stream",
     "text": [
      "Welcome to python world, Umair\n",
      "Let's start with it, Umair\n",
      "Welcome to python world, Ovais\n",
      "Let's start with it, Ovais\n",
      "Welcome to python world, Muaaz\n",
      "Let's start with it, Muaaz\n",
      "Welcome to python world, Ameen\n",
      "Let's start with it, Ameen\n",
      "Welcome to python world, Saad\n",
      "Let's start with it, Saad\n"
     ]
    }
   ],
   "source": [
    "for all_students in students:\n",
    "    print(f\"Welcome to python world, {all_students.title()}\")\n",
    "    print(f\"Let's start with it, {all_students.title()}\")  "
   ]
  },
  {
   "cell_type": "code",
   "execution_count": 9,
   "metadata": {},
   "outputs": [
    {
     "name": "stdout",
     "output_type": "stream",
     "text": [
      "Welcome to python world, Umair\n",
      "Let's start with it, Umair.\n",
      "\n",
      "Welcome to python world, Ovais\n",
      "Let's start with it, Ovais.\n",
      "\n",
      "Welcome to python world, Muaaz\n",
      "Let's start with it, Muaaz.\n",
      "\n",
      "Welcome to python world, Ameen\n",
      "Let's start with it, Ameen.\n",
      "\n",
      "Welcome to python world, Saad\n",
      "Let's start with it, Saad.\n",
      "\n"
     ]
    }
   ],
   "source": [
    "for all_students in students:\n",
    "    print(f\"Welcome to python world, {all_students.title()}\")\n",
    "    print(f\"Let's start with it, {all_students.title()}.\\n\")"
   ]
  },
  {
   "cell_type": "code",
   "execution_count": 10,
   "metadata": {},
   "outputs": [
    {
     "name": "stdout",
     "output_type": "stream",
     "text": [
      "Welcome to python world, Umair\n",
      "Let's start with it, Umair.\n",
      "\n",
      "Welcome to python world, Ovais\n",
      "Let's start with it, Ovais.\n",
      "\n",
      "Welcome to python world, Muaaz\n",
      "Let's start with it, Muaaz.\n",
      "\n",
      "Welcome to python world, Ameen\n",
      "Let's start with it, Ameen.\n",
      "\n",
      "Welcome to python world, Saad\n",
      "Let's start with it, Saad.\n",
      "\n",
      "Are u ready!!!!!!\n"
     ]
    }
   ],
   "source": [
    "for all_students in students:\n",
    "    print(f\"Welcome to python world, {all_students.title()}\")\n",
    "    print(f\"Let's start with it, {all_students.title()}.\\n\")\n",
    "print(f\"Are u ready!!!!!!\")"
   ]
  },
  {
   "cell_type": "code",
   "execution_count": null,
   "metadata": {},
   "outputs": [],
   "source": []
  },
  {
   "cell_type": "code",
   "execution_count": 19,
   "metadata": {},
   "outputs": [],
   "source": [
    "# organising the list:\n",
    "\n",
    "2 ways: 1. Temporary way\n",
    "        2. Permanant way"
   ]
  },
  {
   "cell_type": "code",
   "execution_count": 25,
   "metadata": {},
   "outputs": [
    {
     "name": "stdout",
     "output_type": "stream",
     "text": [
      "['ameen', 'muaaz', 'ovais', 'saad', 'umair']\n"
     ]
    }
   ],
   "source": [
    "# Temporary way\n",
    "\n",
    "print(sorted(students))"
   ]
  },
  {
   "cell_type": "code",
   "execution_count": 26,
   "metadata": {},
   "outputs": [
    {
     "name": "stdout",
     "output_type": "stream",
     "text": [
      "['umair', 'ovais', 'muaaz', 'ameen', 'saad']\n"
     ]
    }
   ],
   "source": [
    "print(students)"
   ]
  },
  {
   "cell_type": "code",
   "execution_count": null,
   "metadata": {},
   "outputs": [],
   "source": []
  },
  {
   "cell_type": "code",
   "execution_count": 28,
   "metadata": {},
   "outputs": [
    {
     "name": "stdout",
     "output_type": "stream",
     "text": [
      "['ameen', 'muaaz', 'ovais', 'saad', 'umair']\n"
     ]
    }
   ],
   "source": [
    "# Permanant way\n",
    "\n",
    "students.sort()\n",
    "print(students)"
   ]
  },
  {
   "cell_type": "code",
   "execution_count": 29,
   "metadata": {},
   "outputs": [
    {
     "name": "stdout",
     "output_type": "stream",
     "text": [
      "['ameen', 'muaaz', 'ovais', 'saad', 'umair']\n"
     ]
    }
   ],
   "source": [
    "print(students)"
   ]
  },
  {
   "cell_type": "code",
   "execution_count": null,
   "metadata": {},
   "outputs": [],
   "source": []
  },
  {
   "cell_type": "code",
   "execution_count": null,
   "metadata": {},
   "outputs": [],
   "source": []
  },
  {
   "cell_type": "code",
   "execution_count": null,
   "metadata": {},
   "outputs": [],
   "source": []
  },
  {
   "cell_type": "code",
   "execution_count": null,
   "metadata": {},
   "outputs": [],
   "source": []
  },
  {
   "cell_type": "code",
   "execution_count": null,
   "metadata": {},
   "outputs": [],
   "source": []
  },
  {
   "cell_type": "code",
   "execution_count": null,
   "metadata": {},
   "outputs": [],
   "source": []
  },
  {
   "cell_type": "code",
   "execution_count": null,
   "metadata": {},
   "outputs": [],
   "source": []
  },
  {
   "cell_type": "code",
   "execution_count": null,
   "metadata": {},
   "outputs": [],
   "source": []
  },
  {
   "cell_type": "code",
   "execution_count": null,
   "metadata": {},
   "outputs": [],
   "source": []
  },
  {
   "cell_type": "code",
   "execution_count": null,
   "metadata": {},
   "outputs": [],
   "source": []
  },
  {
   "cell_type": "code",
   "execution_count": null,
   "metadata": {},
   "outputs": [],
   "source": []
  }
 ],
 "metadata": {
  "kernelspec": {
   "display_name": "Python 3",
   "language": "python",
   "name": "python3"
  },
  "language_info": {
   "codemirror_mode": {
    "name": "ipython",
    "version": 3
   },
   "file_extension": ".py",
   "mimetype": "text/x-python",
   "name": "python",
   "nbconvert_exporter": "python",
   "pygments_lexer": "ipython3",
   "version": "3.7.6"
  }
 },
 "nbformat": 4,
 "nbformat_minor": 4
}
