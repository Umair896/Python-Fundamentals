{
 "cells": [
  {
   "cell_type": "code",
   "execution_count": null,
   "metadata": {},
   "outputs": [],
   "source": [
    "# file handling in python\n",
    "\n",
    "1. how to read the data in python\n",
    "\n",
    "2. how to write the data in python\n",
    "\n",
    "3. how to append the data in python"
   ]
  },
  {
   "cell_type": "code",
   "execution_count": 1,
   "metadata": {},
   "outputs": [
    {
     "name": "stdout",
     "output_type": "stream",
     "text": [
      "123\n",
      "456\n",
      "789\n",
      "1234\n",
      "4567\n",
      "5678\n"
     ]
    }
   ],
   "source": [
    "# 1. how to read the data in python ------ by default intenally it will be having a read mode\n",
    "\n",
    "with open('Digits.txt') as file:\n",
    "    content = file.read()\n",
    "print(content)"
   ]
  },
  {
   "cell_type": "code",
   "execution_count": 2,
   "metadata": {},
   "outputs": [
    {
     "name": "stdout",
     "output_type": "stream",
     "text": [
      "123\n",
      "456\n",
      "789\n",
      "1234\n",
      "4567\n",
      "5678\n"
     ]
    }
   ],
   "source": [
    "filename = 'Digits.txt'\n",
    "\n",
    "with open(filename) as file:\n",
    "     content = file.read()\n",
    "print(content)"
   ]
  },
  {
   "cell_type": "code",
   "execution_count": 5,
   "metadata": {},
   "outputs": [
    {
     "name": "stdout",
     "output_type": "stream",
     "text": [
      "I'm coding\n"
     ]
    }
   ],
   "source": [
    "# 2. how to write the data in python\n",
    "\n",
    "with open('Blank.txt','w') as file1:\n",
    "    x = file1.write(\"I'm coding\")\n",
    "    \n",
    "with open('Blank.txt') as f:\n",
    "    y = f.read()\n",
    "print(y)\n"
   ]
  },
  {
   "cell_type": "code",
   "execution_count": 21,
   "metadata": {},
   "outputs": [
    {
     "name": "stdout",
     "output_type": "stream",
     "text": [
      "Python is a prog lang\n"
     ]
    }
   ],
   "source": [
    "with open('Blank.txt','w') as file1:\n",
    "    contents = file1.write(\"Python is a prog lang\")\n",
    "    \n",
    "with open('Blank.txt') as f:\n",
    "    x = f.read()\n",
    "print(x)\n",
    "\n",
    "# here it will wipeoff old data and adds new data\n"
   ]
  },
  {
   "cell_type": "code",
   "execution_count": 28,
   "metadata": {},
   "outputs": [
    {
     "name": "stdout",
     "output_type": "stream",
     "text": [
      "Python is a prog lang\n",
      " I'm adding new line\n",
      " I'm adding new line\n",
      " I'm adding new line\n",
      " I'm adding new line\n",
      " I'm adding new line\n",
      " I'm adding new line\n",
      " I'm adding new line\n"
     ]
    }
   ],
   "source": [
    "# 3. how to append the data in python---- here old data is safe and new data is added\n",
    "\n",
    "with open('Blank.txt','a') as file1:\n",
    "    contents = file1.write(\"\\n I'm adding new line\")\n",
    "\n",
    "with open('Blank.txt') as f:\n",
    "    x = f.read()\n",
    "print(x)\n"
   ]
  },
  {
   "cell_type": "code",
   "execution_count": null,
   "metadata": {},
   "outputs": [],
   "source": []
  }
 ],
 "metadata": {
  "kernelspec": {
   "display_name": "Python 3",
   "language": "python",
   "name": "python3"
  },
  "language_info": {
   "codemirror_mode": {
    "name": "ipython",
    "version": 3
   },
   "file_extension": ".py",
   "mimetype": "text/x-python",
   "name": "python",
   "nbconvert_exporter": "python",
   "pygments_lexer": "ipython3",
   "version": "3.7.6"
  }
 },
 "nbformat": 4,
 "nbformat_minor": 4
}
