{
 "cells": [
  {
   "cell_type": "code",
   "execution_count": null,
   "metadata": {},
   "outputs": [],
   "source": [
    "# python function cont....."
   ]
  },
  {
   "cell_type": "code",
   "execution_count": null,
   "metadata": {},
   "outputs": [],
   "source": [
    "# types of arguments(args):\n",
    "\n",
    "1. positional args\n",
    "2. key-word args\n",
    "3. default args\n",
    "4. arbitrary/ speculative args"
   ]
  },
  {
   "cell_type": "code",
   "execution_count": 5,
   "metadata": {},
   "outputs": [],
   "source": [
    "# 1. positional args:\n",
    "\n",
    "def vehicle(vehicle_type, vehicle_name):\n",
    "    \"\"\"describe the info about the vehicle\"\"\"\n",
    "    print(f\" I have a {vehicle_type}\")\n",
    "    print(f\" my {vehicle_type} name is {vehicle_name}\")"
   ]
  },
  {
   "cell_type": "code",
   "execution_count": 6,
   "metadata": {},
   "outputs": [
    {
     "name": "stdout",
     "output_type": "stream",
     "text": [
      " I have a car\n",
      " my car name is I20\n"
     ]
    }
   ],
   "source": [
    "vehicle('car','I20')"
   ]
  },
  {
   "cell_type": "code",
   "execution_count": 7,
   "metadata": {},
   "outputs": [
    {
     "name": "stdout",
     "output_type": "stream",
     "text": [
      " I have a Swift\n",
      " my Swift name is car\n"
     ]
    }
   ],
   "source": [
    "vehicle('Swift','car') #-----> by default the fn's will be having the positional args"
   ]
  },
  {
   "cell_type": "code",
   "execution_count": 9,
   "metadata": {},
   "outputs": [
    {
     "name": "stdout",
     "output_type": "stream",
     "text": [
      " I have a car\n",
      " my car name is swift\n"
     ]
    }
   ],
   "source": [
    "# 2: key-word args:\n",
    "\n",
    "vehicle(vehicle_name='swift', vehicle_type='car')"
   ]
  },
  {
   "cell_type": "code",
   "execution_count": 11,
   "metadata": {},
   "outputs": [
    {
     "ename": "TypeError",
     "evalue": "vehicle() missing 1 required positional argument: 'vehicle_name'",
     "output_type": "error",
     "traceback": [
      "\u001b[1;31m---------------------------------------------------------------------------\u001b[0m",
      "\u001b[1;31mTypeError\u001b[0m                                 Traceback (most recent call last)",
      "\u001b[1;32m<ipython-input-11-d085edae7c21>\u001b[0m in \u001b[0;36m<module>\u001b[1;34m\u001b[0m\n\u001b[0;32m      1\u001b[0m \u001b[1;31m# req: if we are giving only one arg:\u001b[0m\u001b[1;33m\u001b[0m\u001b[1;33m\u001b[0m\u001b[1;33m\u001b[0m\u001b[0m\n\u001b[0;32m      2\u001b[0m \u001b[1;33m\u001b[0m\u001b[0m\n\u001b[1;32m----> 3\u001b[1;33m \u001b[0mvehicle\u001b[0m\u001b[1;33m(\u001b[0m\u001b[1;34m'car'\u001b[0m\u001b[1;33m)\u001b[0m\u001b[1;33m\u001b[0m\u001b[1;33m\u001b[0m\u001b[0m\n\u001b[0m",
      "\u001b[1;31mTypeError\u001b[0m: vehicle() missing 1 required positional argument: 'vehicle_name'"
     ]
    }
   ],
   "source": [
    "# req: if we are giving only one arg:\n",
    "\n",
    "vehicle('car')"
   ]
  },
  {
   "cell_type": "code",
   "execution_count": 12,
   "metadata": {},
   "outputs": [],
   "source": [
    "# 3: default args:\n",
    "\n",
    "def vehicle( vehicle_name,vehicle_type='car'):       #--. whenever we are writing the default params we have to keep it at last.\n",
    "    \"\"\"describe the info about the vehicle\"\"\"\n",
    "    print(f\" I have a {vehicle_type}\")\n",
    "    print(f\" my {vehicle_type} name is {vehicle_name}\")"
   ]
  },
  {
   "cell_type": "code",
   "execution_count": 13,
   "metadata": {},
   "outputs": [
    {
     "name": "stdout",
     "output_type": "stream",
     "text": [
      " I have a car\n",
      " my car name is polo\n"
     ]
    }
   ],
   "source": [
    "vehicle('polo')"
   ]
  },
  {
   "cell_type": "code",
   "execution_count": 14,
   "metadata": {},
   "outputs": [
    {
     "name": "stdout",
     "output_type": "stream",
     "text": [
      " I have a bike\n",
      " my bike name is duke\n"
     ]
    }
   ],
   "source": [
    "vehicle('duke','bike')"
   ]
  },
  {
   "cell_type": "code",
   "execution_count": 15,
   "metadata": {},
   "outputs": [],
   "source": [
    "def cars_list(car_names):\n",
    "    \"\"\"printing names of cars\"\"\"\n",
    "    print(car_names)"
   ]
  },
  {
   "cell_type": "code",
   "execution_count": 19,
   "metadata": {},
   "outputs": [
    {
     "ename": "TypeError",
     "evalue": "cars_list() takes 1 positional argument but 5 were given",
     "output_type": "error",
     "traceback": [
      "\u001b[1;31m---------------------------------------------------------------------------\u001b[0m",
      "\u001b[1;31mTypeError\u001b[0m                                 Traceback (most recent call last)",
      "\u001b[1;32m<ipython-input-19-9f46e47e4cdd>\u001b[0m in \u001b[0;36m<module>\u001b[1;34m\u001b[0m\n\u001b[1;32m----> 1\u001b[1;33m \u001b[0mcars_list\u001b[0m\u001b[1;33m(\u001b[0m\u001b[1;34m'swift'\u001b[0m\u001b[1;33m,\u001b[0m\u001b[1;34m'polo'\u001b[0m\u001b[1;33m,\u001b[0m\u001b[1;34m'ertiga'\u001b[0m\u001b[1;33m,\u001b[0m\u001b[1;34m'i20'\u001b[0m\u001b[1;33m,\u001b[0m\u001b[1;34m'creta'\u001b[0m\u001b[1;33m)\u001b[0m\u001b[1;33m\u001b[0m\u001b[1;33m\u001b[0m\u001b[0m\n\u001b[0m",
      "\u001b[1;31mTypeError\u001b[0m: cars_list() takes 1 positional argument but 5 were given"
     ]
    }
   ],
   "source": [
    "cars_list('swift','polo','ertiga','i20','creta')"
   ]
  },
  {
   "cell_type": "code",
   "execution_count": 20,
   "metadata": {},
   "outputs": [],
   "source": [
    "# 4: arbitrary args / speculative args:\n",
    "\n",
    "def cars_list(*car_names):\n",
    "    \"\"\"printing names of cars\"\"\"\n",
    "    print(car_names)"
   ]
  },
  {
   "cell_type": "code",
   "execution_count": 21,
   "metadata": {},
   "outputs": [
    {
     "name": "stdout",
     "output_type": "stream",
     "text": [
      "('swift', 'polo', 'ertiga', 'i20', 'creta')\n"
     ]
    }
   ],
   "source": [
    "cars_list('swift','polo','ertiga','i20','creta')"
   ]
  },
  {
   "cell_type": "code",
   "execution_count": null,
   "metadata": {},
   "outputs": [],
   "source": []
  }
 ],
 "metadata": {
  "kernelspec": {
   "display_name": "Python 3",
   "language": "python",
   "name": "python3"
  },
  "language_info": {
   "codemirror_mode": {
    "name": "ipython",
    "version": 3
   },
   "file_extension": ".py",
   "mimetype": "text/x-python",
   "name": "python",
   "nbconvert_exporter": "python",
   "pygments_lexer": "ipython3",
   "version": "3.7.6"
  }
 },
 "nbformat": 4,
 "nbformat_minor": 4
}
