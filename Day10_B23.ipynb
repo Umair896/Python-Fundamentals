{
 "cells": [
  {
   "cell_type": "code",
   "execution_count": null,
   "metadata": {},
   "outputs": [],
   "source": [
    "# While loops\n",
    "\n",
    "----> occurance of event based on condn\n",
    "----> it will be validating certail condn to implement"
   ]
  },
  {
   "cell_type": "code",
   "execution_count": null,
   "metadata": {},
   "outputs": [],
   "source": [
    "for loop -----> will be implemented for each and every element in the list\n",
    "while loop ---> if the condn holds true"
   ]
  },
  {
   "cell_type": "code",
   "execution_count": 1,
   "metadata": {},
   "outputs": [
    {
     "name": "stdout",
     "output_type": "stream",
     "text": [
      "1\n",
      "2\n",
      "3\n",
      "4\n",
      "5\n",
      "6\n",
      "7\n",
      "8\n"
     ]
    }
   ],
   "source": [
    "number = 1\n",
    "\n",
    "while number <=8:\n",
    "    print(number)\n",
    "    number += 1"
   ]
  },
  {
   "cell_type": "code",
   "execution_count": 5,
   "metadata": {},
   "outputs": [
    {
     "name": "stdout",
     "output_type": "stream",
     "text": [
      "1\n",
      "3\n",
      "5\n",
      "7\n"
     ]
    }
   ],
   "source": [
    "number = 1\n",
    "\n",
    "while number <=8:\n",
    "    print(number)\n",
    "    number += 2"
   ]
  },
  {
   "cell_type": "code",
   "execution_count": 6,
   "metadata": {},
   "outputs": [
    {
     "name": "stdout",
     "output_type": "stream",
     "text": [
      "1\n",
      "6\n"
     ]
    }
   ],
   "source": [
    "number = 1\n",
    "\n",
    "while number <=8:\n",
    "    print(number)\n",
    "    number += 5"
   ]
  },
  {
   "cell_type": "code",
   "execution_count": 13,
   "metadata": {},
   "outputs": [
    {
     "name": "stdout",
     "output_type": "stream",
     "text": [
      "\n",
      " Tell me something:\n",
      " Enter quit to end the programIm learning python\n",
      "Im learning python\n",
      "\n",
      " Tell me something:\n",
      " Enter quit to end the programvery excited\n",
      "very excited\n",
      "\n",
      " Tell me something:\n",
      " Enter quit to end the programquit\n",
      "quit\n"
     ]
    }
   ],
   "source": [
    "# letting the user when to quit\n",
    "\n",
    "prompt = \"\\n Tell me something:\"\n",
    "\n",
    "prompt += \"\\n Enter quit to end the program\"\n",
    "\n",
    "message = \" \"  #----> empty string\n",
    "\n",
    "while message != 'quit':\n",
    "    message=input(prompt)\n",
    "    print(message)"
   ]
  },
  {
   "cell_type": "code",
   "execution_count": 14,
   "metadata": {},
   "outputs": [
    {
     "name": "stdout",
     "output_type": "stream",
     "text": [
      "\n",
      " Tell me something:\n",
      " Enter end to end the programhi\n",
      "hi\n",
      "\n",
      " Tell me something:\n",
      " Enter end to end the programlets end now\n",
      "lets end now\n",
      "\n",
      " Tell me something:\n",
      " Enter end to end the programend\n",
      "end\n"
     ]
    }
   ],
   "source": [
    "prompt = \"\\n Tell me something:\"\n",
    "\n",
    "prompt += \"\\n Enter end to end the program\"\n",
    "\n",
    "message = \" \"  #----> empty string\n",
    "\n",
    "while message != 'end':\n",
    "    message=input(prompt)\n",
    "    print(message)"
   ]
  },
  {
   "cell_type": "code",
   "execution_count": null,
   "metadata": {},
   "outputs": [],
   "source": []
  }
 ],
 "metadata": {
  "kernelspec": {
   "display_name": "Python 3",
   "language": "python",
   "name": "python3"
  },
  "language_info": {
   "codemirror_mode": {
    "name": "ipython",
    "version": 3
   },
   "file_extension": ".py",
   "mimetype": "text/x-python",
   "name": "python",
   "nbconvert_exporter": "python",
   "pygments_lexer": "ipython3",
   "version": "3.7.6"
  }
 },
 "nbformat": 4,
 "nbformat_minor": 4
}
